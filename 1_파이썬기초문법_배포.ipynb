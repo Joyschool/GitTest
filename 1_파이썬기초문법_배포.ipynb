{
  "nbformat": 4,
  "nbformat_minor": 0,
  "metadata": {
    "colab": {
      "provenance": [],
      "toc_visible": true,
      "authorship_tag": "ABX9TyNuEY9LaJRU+EsSx8f6HwW7",
      "include_colab_link": true
    },
    "kernelspec": {
      "name": "python3",
      "display_name": "Python 3"
    },
    "language_info": {
      "name": "python"
    }
  },
  "cells": [
    {
      "cell_type": "markdown",
      "metadata": {
        "id": "view-in-github",
        "colab_type": "text"
      },
      "source": [
        "<a href=\"https://colab.research.google.com/github/Joyschool/GitTest/blob/main/1_%ED%8C%8C%EC%9D%B4%EC%8D%AC%EA%B8%B0%EC%B4%88%EB%AC%B8%EB%B2%95_%EB%B0%B0%ED%8F%AC.ipynb\" target=\"_parent\"><img src=\"https://colab.research.google.com/assets/colab-badge.svg\" alt=\"Open In Colab\"/></a>"
      ]
    },
    {
      "cell_type": "markdown",
      "source": [
        "# 1. 파이썬 기초 문법"
      ],
      "metadata": {
        "id": "dmKU-5iOkeLS"
      }
    },
    {
      "cell_type": "markdown",
      "source": [
        "## 1-1. 파이썬 소개 및 환경설정"
      ],
      "metadata": {
        "id": "d9dW6kUik5zy"
      }
    },
    {
      "cell_type": "markdown",
      "source": [
        "### 1) 파이썬 라이브러리 사용 방법"
      ],
      "metadata": {
        "id": "Rg7wM4ioln5i"
      }
    },
    {
      "cell_type": "markdown",
      "source": [
        "- **파이썬 정보 확인하기**"
      ],
      "metadata": {
        "id": "ybitq5NDn5Vd"
      }
    },
    {
      "cell_type": "code",
      "execution_count": null,
      "metadata": {
        "id": "vD8MIsi7kNo7"
      },
      "outputs": [],
      "source": [
        "import sys\n",
        "\n",
        "print('파이썬 버전:' , sys.version)\n",
        "print('파이썬 실행파일 위치:' , sys.executable)\n",
        "print('파이썬 관련 Path:' , sys.path)"
      ]
    },
    {
      "cell_type": "markdown",
      "source": [
        "- **설치된 파이썬 라이브러리 확인(전체)**"
      ],
      "metadata": {
        "id": "-XLC19-coD_6"
      }
    },
    {
      "cell_type": "code",
      "source": [],
      "metadata": {
        "id": "M1EYkpqmoT4T"
      },
      "execution_count": null,
      "outputs": []
    },
    {
      "cell_type": "markdown",
      "source": [
        "- **설치된 파이썬 라이브러리 확인(특정한 라이브러리)**"
      ],
      "metadata": {
        "id": "FjHYYO_DoUL3"
      }
    },
    {
      "cell_type": "code",
      "source": [],
      "metadata": {
        "id": "9MViFeSPoUXO"
      },
      "execution_count": null,
      "outputs": []
    },
    {
      "cell_type": "markdown",
      "source": [
        "- **파이썬 라이브러리 삭제하기**"
      ],
      "metadata": {
        "id": "A_scKVnNpEng"
      }
    },
    {
      "cell_type": "code",
      "source": [],
      "metadata": {
        "id": "rPLoMtclpEAs"
      },
      "execution_count": null,
      "outputs": []
    },
    {
      "cell_type": "markdown",
      "source": [
        "- **파이썬 라이브러리 설치하기**"
      ],
      "metadata": {
        "id": "xxZVgqNeoUms"
      }
    },
    {
      "cell_type": "code",
      "source": [],
      "metadata": {
        "id": "34NYt8z3oUt1"
      },
      "execution_count": null,
      "outputs": []
    },
    {
      "cell_type": "markdown",
      "source": [
        "#### [미션] 파이썬 정보 확인하기"
      ],
      "metadata": {
        "id": "9y64JOE7lvmg"
      }
    },
    {
      "cell_type": "markdown",
      "source": [
        "\n",
        "\n",
        "1.   파이썬 버전 확인하는 명령어는?\n",
        "\n"
      ],
      "metadata": {
        "id": "OjbwCCmpmA4M"
      }
    },
    {
      "cell_type": "code",
      "source": [],
      "metadata": {
        "id": "7T7h_MG6mUrA"
      },
      "execution_count": null,
      "outputs": []
    },
    {
      "cell_type": "markdown",
      "source": [
        "2. 파이썬 실행 파일 또는 설치 위치 확인하는 명령어는?"
      ],
      "metadata": {
        "id": "3sLxUxhEmGGK"
      }
    },
    {
      "cell_type": "code",
      "source": [],
      "metadata": {
        "id": "pq-hWEbDmVCV"
      },
      "execution_count": null,
      "outputs": []
    },
    {
      "cell_type": "markdown",
      "source": [
        "3. 설치된 파이썬 라이브러리 확인하는 명령어는?"
      ],
      "metadata": {
        "id": "UnQphcEdmORF"
      }
    },
    {
      "cell_type": "code",
      "source": [],
      "metadata": {
        "id": "lxuh0G9_mVhJ"
      },
      "execution_count": null,
      "outputs": []
    },
    {
      "cell_type": "markdown",
      "source": [
        "- **현재 경로 확인**"
      ],
      "metadata": {
        "id": "5idw4Hm89z8m"
      }
    },
    {
      "cell_type": "code",
      "source": [
        "import os\n",
        "\n",
        "#현재 폴더 경로; 작업 폴더 기준\n",
        "print(os.getcwd())              # 현재 경로\n",
        "print(os.path.realpath('./'))   # 현재 경로\n",
        "\n",
        "#현재 디렉토리의 파일 리스트\n",
        "print(os.listdir(os.getcwd()))\n",
        "\n",
        "#디렉토리 변경\n",
        "# os.chdir('/')"
      ],
      "metadata": {
        "id": "Jlz90PvC9wXE"
      },
      "execution_count": null,
      "outputs": []
    },
    {
      "cell_type": "markdown",
      "source": [
        "\n",
        "\n",
        "---\n",
        "\n"
      ],
      "metadata": {
        "id": "M5JilNR-pkpW"
      }
    },
    {
      "cell_type": "markdown",
      "source": [
        "## 1-2. 파이썬 자료형과 연산자"
      ],
      "metadata": {
        "id": "HDyqQBWrlNFM"
      }
    },
    {
      "cell_type": "markdown",
      "source": [
        "### 1) 파이썬 자료형"
      ],
      "metadata": {
        "id": "K8vgVXmulcSq"
      }
    },
    {
      "cell_type": "markdown",
      "source": [
        "* 파이썬 자료형 확인 방법"
      ],
      "metadata": {
        "id": "P6uMmPoHv_68"
      }
    },
    {
      "cell_type": "code",
      "source": [
        "# 파이썬 자료형 확인 방법\n",
        "d1 = 123\n",
        "d2 = '123'\n",
        "d3 = [123]\n",
        "d4 = (123,)\n",
        "d5 = {'key':123}\n",
        "d6 = {123}\n",
        "d7 = True\n",
        "\n",
        "print(f'{d1}의 자료형: {type(d1)}')\n",
        "print(f'{d2}의 자료형: {type(d2)}')\n",
        "print(f'{d3}의 자료형: {type(d3)}')\n",
        "print(f'{d4}의 자료형: {type(d4)}')\n",
        "print(f'{d5}의 자료형: {type(d5)}')\n",
        "print(f'{d6}의 자료형: {type(d6)}')\n",
        "print(f'{d7}의 자료형: {type(d7)}')"
      ],
      "metadata": {
        "id": "LqIHiC1MsT0F"
      },
      "execution_count": null,
      "outputs": []
    },
    {
      "cell_type": "code",
      "source": [
        "# 리스트와 반복문을 이용한 자료형 출력\n",
        "datas = [123,'123',[123],(123,),{'key':123},{123},True]\n",
        "\n",
        "for d in datas:\n",
        "         print(f\"데이터 {d} 의 자료형: {type(d)}\")"
      ],
      "metadata": {
        "id": "ifLMq0b3-1q6"
      },
      "execution_count": null,
      "outputs": []
    },
    {
      "cell_type": "markdown",
      "source": [
        "* 숫자형 자료형\n",
        "    - 정수 : int()\n",
        "    - 실수 : float()"
      ],
      "metadata": {
        "id": "3q7wLO7FwyMf"
      }
    },
    {
      "cell_type": "markdown",
      "source": [
        "* 표준 입력과 출력\n",
        "    - 표준 입력함수 : input()\n",
        "    - 표준 출력함수 : print()"
      ],
      "metadata": {
        "id": "HxuivRiwwEEP"
      }
    },
    {
      "cell_type": "code",
      "source": [
        "# 키보드로 숫자를 입력받아 자료형 확인하기\n",
        "\n"
      ],
      "metadata": {
        "id": "AR1a1JN0wlT7"
      },
      "execution_count": null,
      "outputs": []
    },
    {
      "cell_type": "markdown",
      "source": [
        "* print()함수를 사용한 다양한 출력 방식\n",
        "    - 방법1: % 를 사용하여 변수 포맷팅 방법\n",
        "    - 방법2: format() 함수를 사용한 방법\n",
        "    - 방법3: f'string과 {}을 사용한 방법"
      ],
      "metadata": {
        "id": "v-QqyapnxdYO"
      }
    },
    {
      "cell_type": "code",
      "source": [
        "#방법1: % 를 사용하여 변수 포맷팅 방법\n",
        "var1 = input('숫자를 입력하세요: ')\n",
        "var2 = input('문자열을 입력하세요: ')\n",
        "print('---------------------------')\n",
        "\n",
        "print('var1 = %d, var2 = %s' % (int(var1), var2))"
      ],
      "metadata": {
        "id": "NXTbJ-RG5Jus"
      },
      "execution_count": null,
      "outputs": []
    },
    {
      "cell_type": "code",
      "source": [
        "#방법2: format() 함수를 사용한 방법\n",
        "print('var1 = {0}, var2 = {1}'.format(int(var1), var2))\n",
        "print('var1 = {0:d}, var2 = {1:s}'.format(int(var1), var2))\n",
        "print('var2 = {1}, var1 = {0}'.format(int(var1), var2))"
      ],
      "metadata": {
        "id": "QxBnOlE75NJ-"
      },
      "execution_count": null,
      "outputs": []
    },
    {
      "cell_type": "code",
      "source": [
        "#방법3: f'string과 {}을 사용한 방법\n",
        "print(f'var1 = {var1}, var2 = {var2}')"
      ],
      "metadata": {
        "id": "6vWViLQV5NSo"
      },
      "execution_count": null,
      "outputs": []
    },
    {
      "cell_type": "code",
      "source": [
        "name = '아이유'\n",
        "age = 30\n",
        "print(f'내 이름은 {name}이고, 나이는 {age}살 입니다.')"
      ],
      "metadata": {
        "id": "6nMEE1T465Tn"
      },
      "execution_count": null,
      "outputs": []
    },
    {
      "cell_type": "markdown",
      "source": [
        "#### [실습문제] 키보드로 두 개 숫자 입력받아 사칙연산 하기"
      ],
      "metadata": {
        "id": "pYT-0Xoi7gvt"
      }
    },
    {
      "cell_type": "code",
      "source": [
        "# 정수로 변환:int(), 실수로 변환: float()\n",
        "\n"
      ],
      "metadata": {
        "id": "iOwb1r5I7py5"
      },
      "execution_count": null,
      "outputs": []
    },
    {
      "cell_type": "code",
      "source": [
        "# eval()함수 사용\n",
        "eval(f'{num1} / {num2}')"
      ],
      "metadata": {
        "id": "LXgWXpoK_MHy"
      },
      "execution_count": null,
      "outputs": []
    },
    {
      "cell_type": "markdown",
      "source": [
        "\n",
        "\n",
        "---\n",
        "\n"
      ],
      "metadata": {
        "id": "S1Ck5nEe-Szj"
      }
    },
    {
      "cell_type": "markdown",
      "source": [
        "### 2) 문자와 문자열"
      ],
      "metadata": {
        "id": "yof26G4SsK6N"
      }
    },
    {
      "cell_type": "markdown",
      "source": [
        "- 문자와 문자열 변환"
      ],
      "metadata": {
        "id": "-uQBHWUXAzGW"
      }
    },
    {
      "cell_type": "code",
      "source": [
        "# 문자 --> 숫자(정수) 로 변환 : ord() 함수 사용\n",
        "print( ord('A') )\n",
        "print( ord('!') )\n",
        "print( ord('가') )\n",
        "\n",
        "# 숫자(정수) --> 문자 로 변환 : chr() 함수 사용\n",
        "print( chr(65) )\n",
        "print( chr(97) )\n",
        "print( chr(44032) )"
      ],
      "metadata": {
        "id": "rPevhDsCsX7d"
      },
      "execution_count": null,
      "outputs": []
    },
    {
      "cell_type": "code",
      "source": [
        "# 문자 --> 숫자 --> 이진수 로 변환\n",
        "for c in '파이썬':\n",
        "    숫자, 이진수 = ord(c), bin(숫자)  # unicode, 16진수 binarycode\n",
        "    print(f'{c}->{숫자}->{이진수}', end = ', ')  # 한 줄로 표현하기\n",
        "print()\n",
        "for c in '파이썬':\n",
        "    # 이진수에서 앞'0b'를 없애기 위해 format() 함수 사용할 수 있다.\n",
        "    print(f\"{c}->{format(ord(c),'b')}\", end = ' ')  # 한 줄로 표현하기"
      ],
      "metadata": {
        "id": "lKa8QoJgAbSs"
      },
      "execution_count": null,
      "outputs": []
    },
    {
      "cell_type": "markdown",
      "source": [
        "- 문자열 따옴표로 지정"
      ],
      "metadata": {
        "id": "8gfcqs2XA4eF"
      }
    },
    {
      "cell_type": "code",
      "source": [
        "# 큰 따옴표 or 작은 따옴표로 지정한다\n",
        "print('Hello')\n",
        "print(\"Hello\")\n",
        "print(\"Hello 'world\")\n",
        "print('Hello \"world')\n",
        "print(' \"Yes, I can!\" ')"
      ],
      "metadata": {
        "id": "ySUvp4v0A8fm"
      },
      "execution_count": null,
      "outputs": []
    },
    {
      "cell_type": "code",
      "source": [
        "#따옴표 세 개 사용 : 여러 줄로 표현할 때\n",
        "a = '''박씨가 소리질렀다.\n",
        "도둑이야!'''\n",
        "print(a)"
      ],
      "metadata": {
        "id": "Z_upV1UVBAys"
      },
      "execution_count": null,
      "outputs": []
    },
    {
      "cell_type": "code",
      "source": [
        "menu = '''OOO카페 메뉴판\n",
        "- 아메리카노:  3000원\n",
        "- 카페라테:     4000원\n",
        "- 카페모카:     5000원'''\n",
        "print(menu)\n",
        "coffee = input('주문하실 음료를 입력하세요(ex:아메리카노) => ')\n",
        "cup = input(f'{coffee} 몇 잔을 주문하시겠습니까?: ')\n",
        "\n",
        "print(f'주문하신 음료는 [{coffee} {cup} 잔] 입니다.')"
      ],
      "metadata": {
        "id": "ILmnDdKBBCV0"
      },
      "execution_count": null,
      "outputs": []
    },
    {
      "cell_type": "markdown",
      "source": [
        "* 문자열 연산\n",
        "    - (+): 문자열 연결하기\n",
        "    - (*) : 반복의 의미"
      ],
      "metadata": {
        "id": "9nuqRUB1A9Y-"
      }
    },
    {
      "cell_type": "code",
      "source": [
        "# 문자열 연결하기\n",
        "\n"
      ],
      "metadata": {
        "id": "tHpfFScrA9h5"
      },
      "execution_count": null,
      "outputs": []
    },
    {
      "cell_type": "code",
      "source": [
        "# 문자열 반복\n",
        "\n"
      ],
      "metadata": {
        "id": "qx1PgEfpBd6C"
      },
      "execution_count": null,
      "outputs": []
    },
    {
      "cell_type": "markdown",
      "source": [
        "#### [실습문제] : 구글TTS(gTTS) 사용하여 음성 출력하기\n",
        "Google Text to Speech(gTTS)"
      ],
      "metadata": {
        "id": "0xe_4Y4jCU1c"
      }
    },
    {
      "cell_type": "code",
      "source": [
        "# 구글 tts 프로그램\n",
        "!pip install gTTS"
      ],
      "metadata": {
        "id": "-tXVlxe1CYS9"
      },
      "execution_count": null,
      "outputs": []
    },
    {
      "cell_type": "code",
      "source": [
        "# 영어 출력\n",
        "from gtts import gTTS\n",
        "from IPython.display import Audio\n",
        "\n",
        "eng_wav = gTTS('Hello World!')\n",
        "eng_wav.save('eng.wav')\n",
        "\n",
        "display(Audio('eng.wav', autoplay=True))"
      ],
      "metadata": {
        "id": "oFMpZEzcCYas"
      },
      "execution_count": null,
      "outputs": []
    },
    {
      "cell_type": "code",
      "source": [
        "# 한글 출력\n",
        "from gtts import gTTS\n",
        "from IPython.display import Audio\n",
        "\n",
        "kor_wav = gTTS('안녕하세요! ', lang = 'ko')\n",
        "kor_wav.save('kor.wav')\n",
        "\n",
        "display(Audio('kor.wav', autoplay=True))"
      ],
      "metadata": {
        "id": "jVHUns3tCc6I"
      },
      "execution_count": null,
      "outputs": []
    },
    {
      "cell_type": "code",
      "source": [
        "# Txt 파일 TTS사용하여 읽기\n",
        "\n",
        "\n"
      ],
      "metadata": {
        "id": "0eGwHVLyCjK6"
      },
      "execution_count": null,
      "outputs": []
    },
    {
      "cell_type": "markdown",
      "source": [
        "### 3) 문자열 인덱싱(Indexing)과 슬라이싱(Slicing)"
      ],
      "metadata": {
        "id": "YFK-5WZnsOQF"
      }
    },
    {
      "cell_type": "code",
      "source": [
        "\n",
        "\n"
      ],
      "metadata": {
        "id": "FDZ132q2sYSZ"
      },
      "execution_count": null,
      "outputs": []
    },
    {
      "cell_type": "markdown",
      "source": [
        "#### [실습문제] : 문자열 거꾸로 출력하기"
      ],
      "metadata": {
        "id": "LjIkvKH6C5id"
      }
    },
    {
      "cell_type": "code",
      "source": [
        "\n",
        "\n"
      ],
      "metadata": {
        "id": "QAocYOpgC_iI"
      },
      "execution_count": null,
      "outputs": []
    },
    {
      "cell_type": "markdown",
      "source": [
        "### 4) 연산자\n",
        "* 연산자의 종류\n",
        "    - 산술 연산자\n",
        "    - 대입 연산자\n",
        "    - 관계 연산자\n",
        "    - 논리 연산\n",
        "    - 멤버쉽 연산자\n",
        "    - 비트 연산자"
      ],
      "metadata": {
        "id": "OsYbA5Tys7fU"
      }
    },
    {
      "cell_type": "markdown",
      "source": [
        "#### [실습문제] : 동전 교환 프로그램\n",
        "동전교환 프로그램을 작성하세요"
      ],
      "metadata": {
        "id": "-EflCpDTDHtn"
      }
    },
    {
      "cell_type": "code",
      "source": [
        "# 키보드로부터 금액 입력 받기\n",
        "print('---동전교환기 프로그램을 작동합니다.---')\n",
        "money = int( input('금액을 입력하세요: '))\n",
        "print('동전으로 교환하겠습니다.---------')\n",
        "\n",
        "\n",
        "\n"
      ],
      "metadata": {
        "id": "syc9v_AZDIGQ"
      },
      "execution_count": null,
      "outputs": []
    },
    {
      "cell_type": "markdown",
      "source": [
        "### 5) Collections - Container datatypes\n",
        "https://docs.python.org/3/library/collections.html"
      ],
      "metadata": {
        "id": "6hQoSubZsYux"
      }
    },
    {
      "cell_type": "markdown",
      "source": [
        "#### 1.리스트(List)\n",
        "* 리스트의 특징\n",
        "    - 리스트는 여러 개의 데이터 값을 하나의 변수에 담을 수 있는 데이터 구조\n",
        "    - 리스트는 순서(인덱스)가 있고 데이터를 수정, 삭제, 추가 가능하다.\n",
        "    - 대괄호로 표현되고 내부 원소는 ,(쉼표)로 구분됨"
      ],
      "metadata": {
        "id": "0Rg2Pdv9sqsO"
      }
    },
    {
      "cell_type": "markdown",
      "source": [
        "- 리스트 생성 & 삭제"
      ],
      "metadata": {
        "id": "cDkUr4OlDeYG"
      }
    },
    {
      "cell_type": "code",
      "source": [
        "a = list()\n",
        "a = []\n",
        "a = [1,2,3]\n",
        "a = ['I', 'Love', 'Python']\n",
        "b = [1,2, '사랑해요', 'Python']\n",
        "b = ['a', '1', 1, [2,3], -4]\n",
        "a = [1,2,['a','b',['사랑해', '파이썬']], 3]\n",
        "print(a)\n",
        "print(b)\n",
        "\n",
        "# 리스트 삭제\n",
        "del(b)\n",
        "\n",
        "print(a)\n",
        "print(b)"
      ],
      "metadata": {
        "id": "lxpVBPW1D26I"
      },
      "execution_count": null,
      "outputs": []
    },
    {
      "cell_type": "markdown",
      "source": [
        "- 리스트 요소에 접근"
      ],
      "metadata": {
        "id": "6pf8_bADDtwR"
      }
    },
    {
      "cell_type": "code",
      "source": [
        "print( a[1] )\n",
        "print( a[2] )\n",
        "print( a[2][1] )"
      ],
      "metadata": {
        "id": "8sM8U6uQD3QI"
      },
      "execution_count": null,
      "outputs": []
    },
    {
      "cell_type": "markdown",
      "source": [
        "- 리스트 요소 추가 / 변경"
      ],
      "metadata": {
        "id": "yn8xt-ZaDt4w"
      }
    },
    {
      "cell_type": "code",
      "source": [
        "print(a)\n",
        "a.append('봄')     # 리스트 맨 끝에 추가\n",
        "print(a)\n",
        "a.insert(1, '봄')  # 리스트명.insert(인덱스위치, 값)\n",
        "print(a)"
      ],
      "metadata": {
        "id": "OQlz2jaoD3lf"
      },
      "execution_count": null,
      "outputs": []
    },
    {
      "cell_type": "markdown",
      "source": [
        "- 리스트 요소 삭제"
      ],
      "metadata": {
        "id": "ePPyveBgDzqc"
      }
    },
    {
      "cell_type": "code",
      "source": [
        "print(a)\n",
        "a.pop()     # 리스트 맨 끝 요소 삭제\n",
        "print(a)\n",
        "a.remove('봄')  # 리스트명.remove(값), 단 여러 개 일 경우 첫 번째만 삭제됨\n",
        "print(a)"
      ],
      "metadata": {
        "id": "hwC1ZnmWD4N8"
      },
      "execution_count": null,
      "outputs": []
    },
    {
      "cell_type": "markdown",
      "source": [
        "#### 2.딕셔너리(dictionary)\n",
        "* 딕셔너리의 특징\n",
        "    - 딕셔너리는 쌍이 하나로 묶인 자료구조\n",
        "    - 인덱스를 의미하는 키(key)와 자료의 내용인 값(value)이 중괄호{}로 묶어 이루어짐\n",
        "    - 자료의 순서가 없다.\n"
      ],
      "metadata": {
        "id": "-gkAog5jsseH"
      }
    },
    {
      "cell_type": "markdown",
      "source": [
        "- 딕셔너리 키(key)와 값(value)에 접근하기"
      ],
      "metadata": {
        "id": "BOTk4J7jEMFQ"
      }
    },
    {
      "cell_type": "code",
      "source": [
        "scores = {'국어': 100, '수학': 90, '영어': 80}\n",
        "\n",
        "print(scores['국어'])  # 딕셔너리는 키로 접근한다.\n",
        "\n",
        "# 방법1\n",
        "print('---방법1---')\n",
        "for key in scores:\n",
        "    print('%s => %s' % (key, scores[key]))\n",
        "\n",
        "# 방법2\n",
        "print('---방법2---')\n",
        "for key, value in scores.items():\n",
        "    print('%s => %s' % (key, value))"
      ],
      "metadata": {
        "id": "DZkLi3gHETI8"
      },
      "execution_count": null,
      "outputs": []
    },
    {
      "cell_type": "code",
      "source": [
        "print(scores.keys())   # 키만 추출\n",
        "print(scores.values()) # 키만 추출\n",
        "print(scores.items())  # (키,값)쌍 형태로 추출"
      ],
      "metadata": {
        "id": "JQ3zRyheEX9u"
      },
      "execution_count": null,
      "outputs": []
    },
    {
      "cell_type": "markdown",
      "source": [
        "- 딕셔너리에 요소 추가/수정/삭제"
      ],
      "metadata": {
        "id": "iHKInESTEP78"
      }
    },
    {
      "cell_type": "code",
      "source": [
        "# 키로 요소 추가하기\n",
        "scores['music'] = 100\n",
        "print(scores)\n",
        "\n",
        "# 요소 값 수정하기\n",
        "scores['수학'] = 99\n",
        "print(scores)\n",
        "\n",
        "# 요소 삭제하기\n",
        "del (scores['영어'])\n",
        "print(scores)"
      ],
      "metadata": {
        "id": "2pWI1v5-vfSS"
      },
      "execution_count": null,
      "outputs": []
    },
    {
      "cell_type": "markdown",
      "source": [
        "#### 3.튜플(Tuple)\n",
        "* 튜플의 특징\n",
        "    - 리스트와 유사한 형태로 대괄호[] 대신 소괄호() 사용\n",
        "    - 요소(element)들의 수정과 추가가 불가하다\n",
        "    - 튜플은 소괄호 생각가능, 요소 항목이 하나인 튜플은 뒤에 쉼표를 붙임 --> (3, )"
      ],
      "metadata": {
        "id": "6tt4-j1YuIqw"
      }
    },
    {
      "cell_type": "code",
      "source": [
        "# 튜플 자료형 생성\n",
        "a = tuple()\n",
        "print(a)\n",
        "a = ()\n",
        "print(a)\n",
        "a = (1,)\n",
        "print(a)\n",
        "a = (1,2,3)\n",
        "print(a)\n",
        "a = ('I', 'Love', 'Python')\n",
        "print(a)\n",
        "b = (1,2, '사랑해요', 'Python')\n",
        "print(a)"
      ],
      "metadata": {
        "id": "TweNVyz6EuLa"
      },
      "execution_count": null,
      "outputs": []
    },
    {
      "cell_type": "markdown",
      "source": [
        "#### 4.집합(Set)\n",
        "* 집합의 특징\n",
        "    - 딕셔너리에서 키만 모아 놓은 형태로 중괄호{} 사용함\n",
        "    - 딕셔너리에서 키가 중복되면 안되듯이 집합은 항상 유니크한(중복이 안된) 데이터만 가짐\n",
        "    - 자료의 순서가 없음"
      ],
      "metadata": {
        "id": "ZM3tCq4nuIzM"
      }
    },
    {
      "cell_type": "code",
      "source": [
        "# 집합 자료형 생성\n",
        "a = set()\n",
        "print(a)\n",
        "a = set([1,2,3])\n",
        "print(a)\n",
        "a = {1,2,3}\n",
        "print(a)\n",
        "a = set('Hello')\n",
        "print(a)"
      ],
      "metadata": {
        "id": "op5gE5wuExRB"
      },
      "execution_count": null,
      "outputs": []
    },
    {
      "cell_type": "markdown",
      "source": [
        "\n",
        "\n",
        "---\n",
        "\n"
      ],
      "metadata": {
        "id": "yFkT_Dj8pmwd"
      }
    },
    {
      "cell_type": "markdown",
      "source": [
        "## 1-3. 조건문과 반복"
      ],
      "metadata": {
        "id": "Tnw0V2MMlNQU"
      }
    },
    {
      "cell_type": "markdown",
      "source": [
        "### 1) if 조건문"
      ],
      "metadata": {
        "id": "IWmSe3yJveWT"
      }
    },
    {
      "cell_type": "markdown",
      "source": [
        "- if ~"
      ],
      "metadata": {
        "id": "1kGZw87MyMkM"
      }
    },
    {
      "cell_type": "code",
      "source": [
        "a = 200\n",
        "if a < 100:\n",
        "    print(f\"{a}는 100보다 작군요\")"
      ],
      "metadata": {
        "id": "uLp2OZ6Bv1Vx"
      },
      "execution_count": null,
      "outputs": []
    },
    {
      "cell_type": "markdown",
      "source": [
        "- if ~ else ~"
      ],
      "metadata": {
        "id": "0-hjcmhTyQ0S"
      }
    },
    {
      "cell_type": "code",
      "source": [
        "a = 200\n",
        "if a < 100:\n",
        "    print(f\"{a}는 100보다 작군요\")\n",
        "else:\n",
        "    print(f\"{a}는 100보다 작거나 같군요\")"
      ],
      "metadata": {
        "id": "LmGOKZwJsUzQ"
      },
      "execution_count": null,
      "outputs": []
    },
    {
      "cell_type": "markdown",
      "source": [
        "- if {if ~ else~} else ~"
      ],
      "metadata": {
        "id": "FRTcqd98yW9l"
      }
    },
    {
      "cell_type": "code",
      "source": [
        "a = 200\n",
        "if a > 100:\n",
        "    if a > 200:\n",
        "        print(f\"{a}는 200보다 크군요\")\n",
        "    else:\n",
        "         print(f\"{a}는 200보다 작거나 같군요\")\n",
        "else:\n",
        "    print(f\"{a}는100보다 작거나 같군요\")"
      ],
      "metadata": {
        "id": "wjLY8xMVsVGP"
      },
      "execution_count": null,
      "outputs": []
    },
    {
      "cell_type": "markdown",
      "source": [
        "- if와 else 문장을 --> elif 문장으로 변환"
      ],
      "metadata": {
        "id": "BqCQaIWPx-Cj"
      }
    },
    {
      "cell_type": "code",
      "source": [
        "# if, else 문장\n",
        "pocket = ['paper', 'handphone']\n",
        "card = True\n",
        "\n",
        "if 'money' in pocket:\n",
        "    print('택시를 타고 가세요')\n",
        "else:\n",
        "    if card:\n",
        "        print('택시를 타고 가세요')\n",
        "    else:\n",
        "        print('걸어서 가세요')"
      ],
      "metadata": {
        "id": "9tpbC6y3x-cs"
      },
      "execution_count": null,
      "outputs": []
    },
    {
      "cell_type": "code",
      "source": [
        "# if elif 문장\n",
        "pocket = ['paper', 'handphone']\n",
        "card = True\n",
        "\n",
        "if 'money' in pocket:\n",
        "    print('택시를 타고 가세요')\n",
        "elif card:\n",
        "    print('택시를 타고 가세요')\n",
        "else:\n",
        "    print('걸어서 가세요')"
      ],
      "metadata": {
        "id": "D4li12w4yn-S"
      },
      "execution_count": null,
      "outputs": []
    },
    {
      "cell_type": "markdown",
      "source": [
        "#### [실습문제] : 짝수/홀수 판별하기"
      ],
      "metadata": {
        "id": "iy3brWLHldB_"
      }
    },
    {
      "cell_type": "code",
      "source": [
        "\n",
        "\n"
      ],
      "metadata": {
        "id": "sRD0jgFoxAIT"
      },
      "execution_count": null,
      "outputs": []
    },
    {
      "cell_type": "markdown",
      "source": [
        "#### [실습문제] : 커피 자판기 프로그램 만들기\n",
        "아래 조건을 만족하는 커피 자판기 조건문을 만들어보세요.<br><br>\n",
        "[커피 자판기 프로그램]<br>\n",
        "친구들과 현금 커피 자동주문 머신 앞에서\n",
        " - 아메리카노 2잔과 카페라테 2잔 카푸치노 1잔을 주문하였다.\n",
        " - 아메리카노 한잔에 2500원이고\n",
        " - 카페라테는 한잔에 3000원\n",
        " - 카푸치노는 한잔에 3000원이다.\n",
        "커피 종류와 잔 수를 결정한 후 현금 15000원을 투입하고 잔돈을 1000원 받았다."
      ],
      "metadata": {
        "id": "PuPFgEc4xKC4"
      }
    },
    {
      "cell_type": "code",
      "source": [
        "menu = '''[커피 자판기 메뉴]\n",
        "-----------------------------\n",
        "- 아메리카노 2500원\n",
        "- 카페라테   3000원\n",
        "- 카푸치노   3000원\n",
        "입니다. 원하시는 커피종류와 잔수를 입력하세요.\n",
        "-----------------------------\\n'''\n",
        "\n",
        "coffee1 = int(input(menu+\"아메리카노 몇잔?: \"))\n",
        "coffee2 = int(input('카페라떼 몇잔?: '))\n",
        "coffee3 = int(input('카푸치노 몇잔?: '))\n",
        "\n",
        "\n",
        "\n"
      ],
      "metadata": {
        "id": "9GJrF8Foxami"
      },
      "execution_count": null,
      "outputs": []
    },
    {
      "cell_type": "markdown",
      "source": [
        "* **조건부 표현식**\n",
        "    - if else 문장을 --> 조건부 표현식으로 변환"
      ],
      "metadata": {
        "id": "HeSfsBSOzEj8"
      }
    },
    {
      "cell_type": "code",
      "source": [
        "score = int(input('점수를 입력하세요: '))\n",
        "\n",
        "if score >= 60:\n",
        "    print('success')\n",
        "else:\n",
        "    print('failure')\n"
      ],
      "metadata": {
        "id": "MPF2oMsqzTer"
      },
      "execution_count": null,
      "outputs": []
    },
    {
      "cell_type": "code",
      "source": [
        "# 위 문장의 조건문을 한 줄의 조건부 표현식으로 변경하면\n",
        "\n"
      ],
      "metadata": {
        "id": "NECzBnNLzXcI"
      },
      "execution_count": null,
      "outputs": []
    },
    {
      "cell_type": "markdown",
      "source": [
        "\n",
        "\n",
        "---\n",
        "\n"
      ],
      "metadata": {
        "id": "AxG9v43e0DAD"
      }
    },
    {
      "cell_type": "markdown",
      "source": [
        "### 2) for 반복문\n",
        "* for반복문의 특징\n",
        "    - 유한 개수(번)의 반복\n",
        "    - 반복 회수 부분에 range()함수, 문자열, container 자료형 사용 가능"
      ],
      "metadata": {
        "id": "kNZGrl9J0ESt"
      }
    },
    {
      "cell_type": "code",
      "source": [
        "# range()함수 사용한 for반복\n",
        "hap = 0\n",
        "for i in range(1,11,1):\n",
        "    hap = hap + i\n",
        "\n",
        "print(f'1에서 10까지의 합계: {hap}')"
      ],
      "metadata": {
        "id": "UFJvBSWx1opU"
      },
      "execution_count": null,
      "outputs": []
    },
    {
      "cell_type": "code",
      "source": [
        "# 문자열 사용한 for반복\n",
        "a = '파이썬'\n",
        "for i in a:   #\n",
        "    print(i)"
      ],
      "metadata": {
        "id": "BAO0QgbE2Ky5"
      },
      "execution_count": null,
      "outputs": []
    },
    {
      "cell_type": "code",
      "source": [
        "# 리스트 사용한 for반복\n",
        "a_list = [70, 60, 55, 75, 95, 90, 80, 80, 85, 100]\n",
        "hap = 0\n",
        "for i in a_list:\n",
        "    hap += i   # hap = hap + i\n",
        "\n",
        "print(f'{a_list} 안의 모든 합은: {hap}')"
      ],
      "metadata": {
        "id": "Ujbxf0wF14zh"
      },
      "execution_count": null,
      "outputs": []
    },
    {
      "cell_type": "markdown",
      "source": [
        "#### [실습문제] : 1~N까지 짝수 제외 합계 구하기\n",
        "숫자를 입력받아 1~N까지의 합을 구할 때 짝수를 제외하고 합을 구하기"
      ],
      "metadata": {
        "id": "QxFXPpKG1dsT"
      }
    },
    {
      "cell_type": "code",
      "source": [
        "N = int(input('합계를 구할 숫자 입력:'))\n",
        "\n",
        "\n"
      ],
      "metadata": {
        "id": "nckj6uyB07eo"
      },
      "execution_count": null,
      "outputs": []
    },
    {
      "cell_type": "markdown",
      "source": [
        "### 3) while 반복문"
      ],
      "metadata": {
        "id": "t4ULklkH0MKe"
      }
    },
    {
      "cell_type": "markdown",
      "source": [
        "* while 반복문의 특징\n",
        "    - 특정 조건이 참이될 동안의 반복\n",
        "    - 무한 개수(번)의 반복 -> 단, 빠져나올 조건(break)이 필요"
      ],
      "metadata": {
        "id": "XaBzqnN808Tn"
      }
    },
    {
      "cell_type": "code",
      "source": [
        "num1, num2 = 0, 0\n",
        "while True:\n",
        "    num1 = int(input(\"더할 첫 번째 숫자: \"))\n",
        "    if num1 == 0:\n",
        "        break\n",
        "    num2 = int(input(\"더할 두 번째 숫자: \"))\n",
        "\n",
        "    print(f'{num1} + {num2} = {num1 + num2}')\n",
        "\n",
        "print(\"0이 입력되어서 반복문을 탈출했습니다.\")"
      ],
      "metadata": {
        "id": "kj2Z6IuO1Y2W"
      },
      "execution_count": null,
      "outputs": []
    },
    {
      "cell_type": "markdown",
      "source": [
        "#### [실습문제] : 도둑잡기 게임 만들기\n",
        "경찰에 쫓기던 범인이 3개의 방 중에 한 곳에 숨어버렸습니다. 범인은 방문을 열 때마다 무작위로 3개의 방 중 하나의 방으로 이동합니다. 3개의 방 중 하나의 방을 선택했을 때 범인이 있다면 100점, 없을 때 -10점을 부여하고 범인을 잡으면 게임을 종료하는 프로그램을 만들어 보세요."
      ],
      "metadata": {
        "id": "F_I6RUyD29qQ"
      }
    },
    {
      "cell_type": "code",
      "source": [
        "import random\n",
        "score = 0\n",
        "\n",
        "while True:  # 무한반복\n",
        "\n",
        "\n",
        "\n",
        "\n",
        "print('게임 종료!')        # 게임 종료 메시지 출력\n",
        "print(f'점수: {score} 점') # 최종 점수 출력"
      ],
      "metadata": {
        "id": "Og2hynkD290F"
      },
      "execution_count": null,
      "outputs": []
    },
    {
      "cell_type": "markdown",
      "source": [
        "#### [실습문제] : 공이 튕긴 횟수 구하기\n",
        "공을 일정 높이에서 던졌을 때, 원래 높이의 1/2만큼 튀어 오른다고 합니다. 그러다가 높이가 0.00001m보다 낮으면 튀어오르지 않는다고 합니다. while문을 이용하여 이 프로그램을 만들어 보세요."
      ],
      "metadata": {
        "id": "vog_-hjk3I-d"
      }
    },
    {
      "cell_type": "code",
      "source": [
        "length = int(input('공의 높이를 입력하세요(meter) : '))\n",
        "meter, cnt = length, 0\n",
        "while True:\n",
        "    if meter <= 0.00001:\n",
        "        break\n",
        "\n",
        "    meter /= 2\n",
        "    cnt += 1\n",
        "\n",
        "print(f'{length}m 위치에서 공의 튕긴 횟수는 총 {cnt}번 입니다.')"
      ],
      "metadata": {
        "id": "v1bfJ76E3JFn",
        "colab": {
          "base_uri": "https://localhost:8080/"
        },
        "outputId": "8d0b1c42-02f3-41c4-c641-e0d1cdc834cf"
      },
      "execution_count": 2,
      "outputs": [
        {
          "output_type": "stream",
          "name": "stdout",
          "text": [
            "공의 높이를 입력하세요(meter) : 100\n",
            "100m 위치에서 공의 튕긴 횟수는 총 24번 입니다.\n"
          ]
        }
      ]
    },
    {
      "cell_type": "markdown",
      "source": [
        "#### [실습문제] :  커피 자판기 프로그램 업그레이드\n",
        "앞에서 만들어 본 커피 자판기 머신 프로그램을 while문을 이용하여 돈을 모두 지불할 때까지 돈을 입력 받도록 프로그램 기능 수정하기"
      ],
      "metadata": {
        "id": "71WChfL94Cb_"
      }
    },
    {
      "cell_type": "code",
      "source": [
        "menu = '''[커피 자판기 메뉴]\n",
        "-----------------------------\n",
        "- 아메리카노 2500원\n",
        "- 카페라테   3000원\n",
        "- 카푸치노   3000원\n",
        "입니다. 원하시는 커피종류와 잔수를 입력하세요.\n",
        "-----------------------------\\n'''\n",
        "\n",
        "coffee1 = int(input(menu+\"아메리카노 몇잔?: \"))\n",
        "coffee2 = int(input('카페라떼 몇잔?: '))\n",
        "coffee3 = int(input('카푸치노 몇잔?: '))\n",
        "\n",
        "price = coffee1*2500 + coffee2*3000 + coffee3*3000\n",
        "print(f'지불할 총 금액은 {price} 입니다.')\n",
        "\n",
        "while True:\n",
        "    entPrice = int(input('돈을 넣어주세요: '))\n",
        "\n",
        "    if entPrice == price:\n",
        "        print('계산을 완료합니다')\n",
        "        break\n",
        "    elif entPrice > price:\n",
        "        entPrice -= price\n",
        "        print(f'거스름돈은 {entPrice}입니다')\n",
        "        break\n",
        "    else:\n",
        "        price -= entPrice\n",
        "        print(f'입력한 금액이 부족합니다')\n",
        "        print(f'{price}원을 더 넣어 주세요')\n",
        "\n",
        "print('-'*30)\n",
        "print('커피 맛있게 드세요~~~')"
      ],
      "metadata": {
        "id": "p0GtUXCO4Cll",
        "colab": {
          "base_uri": "https://localhost:8080/"
        },
        "outputId": "80b0954b-8212-429b-f429-284bb8434c05"
      },
      "execution_count": 3,
      "outputs": [
        {
          "output_type": "stream",
          "name": "stdout",
          "text": [
            "[커피 자판기 메뉴]\n",
            "-----------------------------\n",
            "- 아메리카노 2500원\n",
            "- 카페라테   3000원\n",
            "- 카푸치노   3000원\n",
            "입니다. 원하시는 커피종류와 잔수를 입력하세요.\n",
            "-----------------------------\n",
            "아메리카노 몇잔?: 2\n",
            "카페라떼 몇잔?: 1\n",
            "카푸치노 몇잔?: 1\n",
            "지불할 총 금액은 11000 입니다.\n",
            "돈을 넣어주세요: 10000\n",
            "입력한 금액이 부족합니다\n",
            "1000원을 더 넣어 주세요\n",
            "돈을 넣어주세요: 500\n",
            "입력한 금액이 부족합니다\n",
            "500원을 더 넣어 주세요\n",
            "돈을 넣어주세요: 1000\n",
            "거스름돈은 500입니다\n",
            "------------------------------\n",
            "커피 맛있게 드세요~~~\n"
          ]
        }
      ]
    },
    {
      "cell_type": "markdown",
      "source": [
        "\n",
        "\n",
        "---\n",
        "\n"
      ],
      "metadata": {
        "id": "EZW369K4pptf"
      }
    },
    {
      "cell_type": "markdown",
      "source": [
        "### 4) 난수(Random number)\n"
      ],
      "metadata": {
        "id": "7uloNB_JxiNy"
      }
    },
    {
      "cell_type": "markdown",
      "source": [
        "|함수 | 설명 |\n",
        "|:---|:---|\n",
        "| randint(1, 10)  |  # 1~10 사이의 임의의 정수 1개 |\n",
        "| randrange(1, 10) | # 1~9 사이의 임의의 정수 1개 |\n",
        "| random()  |        # 0~1 사이의 균일분포의 임의의 실수 1개 |\n",
        "| shffle(순서가있는자료) |   # 순서가있는자료를 뒤섞기 |\n",
        "| choice(자료)     | # 자료 중에 임의의 데이터 1개 추출 |\n",
        "| sample(자료,개수)| # 자료 중에 중복되지 않게 개수만큼 추출 |"
      ],
      "metadata": {
        "id": "EeamYd3167k0"
      }
    },
    {
      "cell_type": "markdown",
      "source": [
        "#### [실습문제] : 임의의 두 수 합 구하기\n",
        "1부터 10까지의 범위를 갖는 임의의 두 정수 a, b를 더하여 결과 출력하기"
      ],
      "metadata": {
        "id": "3LGH92IV6Dpx"
      }
    },
    {
      "cell_type": "code",
      "source": [
        "import random\n",
        "\n",
        "a = random.randint(1, 10)\n",
        "b = random.randint(1, 10)\n",
        "print(f'{a} + {b} = {a + b}')"
      ],
      "metadata": {
        "id": "kV2ZSmio5-1O"
      },
      "execution_count": null,
      "outputs": []
    },
    {
      "cell_type": "markdown",
      "source": [
        "#### [실습문제] : 던져 나온 주사위의 눈금별 횟수 카운팅\n",
        "주사위를 100번 던져서 나오는 숫자를 각 숫자별로 카운트하고 가장 많이 나온 숫자와 그 숫자의 횟수를 출력하시오."
      ],
      "metadata": {
        "id": "JhEnxoh86IxE"
      }
    },
    {
      "cell_type": "code",
      "source": [
        "import random\n",
        "\n",
        "dice=[0,0,0,0,0,0]\n",
        "for i in range(100):\n",
        "    x = random.randint(1,6)\n",
        "    dice[x-1] += 1\n",
        "\n",
        "print(f'숫자별 개수: {dice}')\n",
        "print(f'가장 많이 나온 주사위 숫자: {max(dice)}, 횟수: { dice.index(max(dice)) + 1}')"
      ],
      "metadata": {
        "id": "FSFZw97_6I8f",
        "colab": {
          "base_uri": "https://localhost:8080/"
        },
        "outputId": "5e1f137a-ee76-41a9-cbb0-d553c0b058e4"
      },
      "execution_count": 4,
      "outputs": [
        {
          "output_type": "stream",
          "name": "stdout",
          "text": [
            "숫자별 개수: [14, 17, 11, 22, 18, 18]\n",
            "가장 많이 나온 주사위 숫자: 22, 횟수: 4\n"
          ]
        }
      ]
    },
    {
      "cell_type": "markdown",
      "source": [
        "### 5) 리스트 컴프리헨션(List Comprehension)\n",
        "- 하나 이상의 iterator(값이 순차적인 것, ex:리스트)로 부터 파이썬 자료구조를 만드는 간단한 방법\n",
        "- 반복되거나 특정 조건을 만족하는 리스트를 보다 쉽게 만들어 내기 위한 방법"
      ],
      "metadata": {
        "id": "Oo2eJbWR8ma8"
      }
    },
    {
      "cell_type": "code",
      "source": [
        "numList = []              # 빈리스트 정의\n",
        "for num in range(1, 6):   # 1~6 미만의 정수 [1,2,3,4,5]\n",
        "    numList.append(num)   # 리스트에 추가\n",
        "\n",
        "numList                   # 리스트 출력"
      ],
      "metadata": {
        "id": "ZtkRhrgs9D99"
      },
      "execution_count": null,
      "outputs": []
    },
    {
      "cell_type": "code",
      "source": [
        "# 리스트 정의 + 요소 추가\n",
        "numList = [ num for num in range(1,6) ]\n",
        "numList"
      ],
      "metadata": {
        "id": "6hKFpYVU9EG2",
        "colab": {
          "base_uri": "https://localhost:8080/"
        },
        "outputId": "728698d1-9879-4c7c-9d17-3f7d7e37f439"
      },
      "execution_count": 5,
      "outputs": [
        {
          "output_type": "execute_result",
          "data": {
            "text/plain": [
              "[1, 2, 3, 4, 5]"
            ]
          },
          "metadata": {},
          "execution_count": 5
        }
      ]
    },
    {
      "cell_type": "code",
      "source": [
        "# 문제: 1~10에서 짝수만 리스트의 값으로 만드시오(리스트 컴프리헨션 방법 사용)\n",
        "# 리스트 정의 + 조건에 맞는 + 요소 추가\n",
        "numList = [ num for num in range(1,11) if num%2==0]\n",
        "numList\n"
      ],
      "metadata": {
        "id": "pbTv5eWj9vMs",
        "colab": {
          "base_uri": "https://localhost:8080/"
        },
        "outputId": "3b58bdf2-f5bb-4f5b-fefa-cab5be9314b0"
      },
      "execution_count": 6,
      "outputs": [
        {
          "output_type": "execute_result",
          "data": {
            "text/plain": [
              "[2, 4, 6, 8, 10]"
            ]
          },
          "metadata": {},
          "execution_count": 6
        }
      ]
    },
    {
      "cell_type": "code",
      "source": [
        "cells = []\n",
        "rows = range(1, 4)\n",
        "cols = range(1, 3)\n",
        "for row in rows:\n",
        "    for col in cols:\n",
        "        cells.append((row,col))\n",
        "cells"
      ],
      "metadata": {
        "colab": {
          "base_uri": "https://localhost:8080/"
        },
        "id": "kteK8CHpF5Js",
        "outputId": "f424fefb-9254-4807-8f37-cbbe30904c77"
      },
      "execution_count": 8,
      "outputs": [
        {
          "output_type": "execute_result",
          "data": {
            "text/plain": [
              "[(1, 1), (1, 2), (2, 1), (2, 2), (3, 1), (3, 2)]"
            ]
          },
          "metadata": {},
          "execution_count": 8
        }
      ]
    },
    {
      "cell_type": "code",
      "source": [
        "cells = [ (row, col )for row in rows for col in cols]\n",
        "cells"
      ],
      "metadata": {
        "colab": {
          "base_uri": "https://localhost:8080/"
        },
        "id": "vy8Pp2baGart",
        "outputId": "e57f1f21-5b23-4cec-ff00-97d0473dc86d"
      },
      "execution_count": 9,
      "outputs": [
        {
          "output_type": "execute_result",
          "data": {
            "text/plain": [
              "[(1, 1), (1, 2), (2, 1), (2, 2), (3, 1), (3, 2)]"
            ]
          },
          "metadata": {},
          "execution_count": 9
        }
      ]
    },
    {
      "cell_type": "markdown",
      "source": [
        "## 1-4. 함수와 모듈"
      ],
      "metadata": {
        "id": "3Slx7Z12lNX8"
      }
    },
    {
      "cell_type": "markdown",
      "source": [
        "### 1) 함수\n",
        "* 관계 : 함수 < 모듈 < 패키지\n",
        "* 함수 정의"
      ],
      "metadata": {
        "id": "k-VBLQwkldkf"
      }
    },
    {
      "cell_type": "code",
      "source": [
        "# 함수 정의\n",
        "\n",
        "\n",
        "# 함수 호출\n"
      ],
      "metadata": {
        "id": "nQvz_KT18XZj"
      },
      "execution_count": null,
      "outputs": []
    },
    {
      "cell_type": "code",
      "source": [
        "# 로또번호 출력\n",
        "\n"
      ],
      "metadata": {
        "id": "ehREvq1D7alZ"
      },
      "execution_count": null,
      "outputs": []
    },
    {
      "cell_type": "markdown",
      "source": [
        "- 함수의 구조 : 매개변수와 리턴값에 따른 함수의 예"
      ],
      "metadata": {
        "id": "TNMx296y-5F5"
      }
    },
    {
      "cell_type": "code",
      "source": [
        "# 매개변수(X), 리턴값(X)\n",
        "def func():\n",
        "    print('안녕하세요!')\n",
        "\n",
        "print( func() )"
      ],
      "metadata": {
        "id": "OXVmXOSD-lzc"
      },
      "execution_count": null,
      "outputs": []
    },
    {
      "cell_type": "code",
      "source": [
        "# 매개변수(X), 리턴값(O)\n",
        "def func():\n",
        "    print('안녕하세요!')\n",
        "    return '처리완료!'\n",
        "\n",
        "print( func() )"
      ],
      "metadata": {
        "id": "kaC9P4DU_Fpl"
      },
      "execution_count": null,
      "outputs": []
    },
    {
      "cell_type": "code",
      "source": [
        "# 매개변수(O), 리턴값(X)\n",
        "def func(a, b):\n",
        "    print('덧셈: %d + %d = %d' % (a, b, a+b))\n",
        "\n",
        "print( func(5, 7) )"
      ],
      "metadata": {
        "id": "dBSKa0U0_FvF"
      },
      "execution_count": null,
      "outputs": []
    },
    {
      "cell_type": "code",
      "source": [
        "#  매개변수(O), 리턴값(O)\n",
        "def func(a, b):\n",
        "    print('덧셈: %d + %d = %d' % (a, b, a+b))\n",
        "    return a+b\n",
        "\n",
        "print( func(5, 7) )"
      ],
      "metadata": {
        "id": "lWEOpWjZ_F18"
      },
      "execution_count": null,
      "outputs": []
    },
    {
      "cell_type": "markdown",
      "source": [
        "- 매개변수의 다양한 모양"
      ],
      "metadata": {
        "id": "huZZPYbn_W6z"
      }
    },
    {
      "cell_type": "code",
      "source": [
        "# 1. 매개변수 기본값을 주는 방법\n",
        "def test02(a=0, b=0, c=0):\n",
        "    print(f'test1() --> a:{a} b:{b} c:{c}')\n",
        "\n",
        "test02()\n",
        "test02(10)\n",
        "test02(10, 20)\n",
        "test02(10, 20, 30)\n",
        "test02(c=10, b=20, a=30)"
      ],
      "metadata": {
        "id": "_U7CvLtk_cs3"
      },
      "execution_count": null,
      "outputs": []
    },
    {
      "cell_type": "code",
      "source": [
        "# 2. 무제한 인자 받기 : -> tuple 로 받기\n",
        "def test03(*args):\n",
        "    print(f'args:{args}')\n",
        "    print(type(args))\n",
        "    for i in range(len(args)):\n",
        "        print(f'{i}: {args[i]}')\n",
        "\n",
        "# 개수 제한 없이 인자를 넣을 수 있다.\n",
        "test03('abc', 'def', 1, True)"
      ],
      "metadata": {
        "id": "nl5amTQR_c0c"
      },
      "execution_count": null,
      "outputs": []
    },
    {
      "cell_type": "code",
      "source": [
        "#  3. 일부분 무제한 받기\n",
        "def test04(a, *b):  # *b, a 순서는 안된다.\n",
        "    print(f'a:{a} b:{b}')\n",
        "\n",
        "test04(10, 20, 30, 40)  # a:10 b:(20, 30, 40)"
      ],
      "metadata": {
        "id": "gCr_AXMW_c-5"
      },
      "execution_count": null,
      "outputs": []
    },
    {
      "cell_type": "code",
      "source": [
        "# 4. 무제한 인자 받기 : -> dictionary 로 받기\n",
        "def test05(**args):\n",
        "    print(f'args:{args}')\n",
        "    print(type(args))\n",
        "    for k, v in args.items():\n",
        "        print(f'key:{k}, value:{v}')\n",
        "\n",
        "test05(name=\"홍길동\", age=24, address=\"강남구\", contact=\"010-1111-2222\")"
      ],
      "metadata": {
        "id": "E4Mz5CM4_h4Z"
      },
      "execution_count": null,
      "outputs": []
    },
    {
      "cell_type": "markdown",
      "source": [
        "#### [실습문제] : 암스트롱수 구하기\n",
        "다음 조건을 참고하여 암스트롱수를 구하는 함수를 만들어 출력하는 프로그램을 만들어 보세요.\n",
        "- **암스트롱수** : 세 자리의 정수 중에서 각 자리의 수를 세 제곱한 수의 합과 자신이 같은 수"
      ],
      "metadata": {
        "id": "SBWXtjuq_svQ"
      }
    },
    {
      "cell_type": "code",
      "source": [
        "def is_armstringNumber(N):\n",
        "\n",
        "\n",
        "\n",
        "for i in range(100, 1000):\n",
        "    if is_armstringNumber(i):\n",
        "        print(\"[%i] is armstrong number\" % i)"
      ],
      "metadata": {
        "id": "fE7CLtXv_s43"
      },
      "execution_count": null,
      "outputs": []
    },
    {
      "cell_type": "markdown",
      "source": [
        "### #전역변수, 지역변수"
      ],
      "metadata": {
        "id": "VuLrffsIAKO9"
      }
    },
    {
      "cell_type": "code",
      "source": [
        "a = 10  # 전역변수\n",
        "def test1():\n",
        "    a = 20  # 동명의 지역변수가 생성된다.\n",
        "    print(f'a:{a}')\n",
        "\n",
        "test1()  # a:20\n",
        "print(f'a:{a}')  # a:10  (전역변수 a에 영향이 없다.)"
      ],
      "metadata": {
        "id": "bZoGSRWcALBX"
      },
      "execution_count": null,
      "outputs": []
    },
    {
      "cell_type": "code",
      "source": [
        "def test2():\n",
        "    global a  # 전역변수 a를 사용하겠다.\n",
        "    a = 20  # 전역변수를 그대로 사용한다.\n",
        "    print(f'a:{a}')\n",
        "\n",
        "\n",
        "test2()  # a:20\n",
        "print(f'a:{a}')  # a:20  (전역변수 a의 값이 test2()에 의해 변경되었다.)"
      ],
      "metadata": {
        "id": "GFWBKfBmAfmW"
      },
      "execution_count": null,
      "outputs": []
    },
    {
      "cell_type": "markdown",
      "source": [
        "### #lambda() 함수\n",
        "한 줄로 간단하게 만들어 주는 함수"
      ],
      "metadata": {
        "id": "tFIaoztVALcE"
      }
    },
    {
      "cell_type": "code",
      "source": [
        "# 일반 함수\n",
        "def hap(num1, num2):\n",
        "    res = num1 + num2\n",
        "    return res\n",
        "print(hap(10,20))\n",
        "\n",
        "\n",
        "# lambda 함수\n",
        "hap = lambda num1, num2: num1+num2\n",
        "print(hap(10,20))"
      ],
      "metadata": {
        "id": "bY_p9NtyALqY"
      },
      "execution_count": null,
      "outputs": []
    },
    {
      "cell_type": "markdown",
      "source": [
        "### #map() 함수\n",
        " - 함수와 자료형(string, list, tuple)을 인자로 갖는 내장 함수\n",
        " - 첫 번째 인자는 함수명, 두 번째 인자는 순서가 있는 자료형"
      ],
      "metadata": {
        "id": "SRkt_QUtALyn"
      }
    },
    {
      "cell_type": "code",
      "source": [
        "# 리스트에 모두 10을 더하는 코드\n",
        "myList = [1,2,3,4,5]\n",
        "myList = [num+10 for num in myList]"
      ],
      "metadata": {
        "id": "iGACxe5jAwxA"
      },
      "execution_count": null,
      "outputs": []
    },
    {
      "cell_type": "code",
      "source": [
        "myList = [1,2,3,4,5]\n",
        "\n",
        "def add10(num):\n",
        "    return num+10\n",
        "\n",
        "for index, value in enumerate(myList):\n",
        "    myList[index] = add10(value)\n",
        "\n",
        "print(myList)"
      ],
      "metadata": {
        "id": "8zPTIUeXAL6H"
      },
      "execution_count": null,
      "outputs": []
    },
    {
      "cell_type": "code",
      "source": [
        "# 최종\n",
        "myList = [1,2,3,4,5]\n",
        "myList = list(map(lambda num:num+10, myList))"
      ],
      "metadata": {
        "id": "laQ-sfjIBA_L"
      },
      "execution_count": null,
      "outputs": []
    },
    {
      "cell_type": "markdown",
      "source": [
        "#### [실습문제] : lambda + map 사용하기\n",
        "리스트에서 3의 배수를 문자열로 변환하는 프로그램을 lambda와 map을 이용하여 만들어 보세요."
      ],
      "metadata": {
        "id": "41N9l46PBZXJ"
      }
    },
    {
      "cell_type": "code",
      "source": [
        "\n",
        "\n"
      ],
      "metadata": {
        "id": "Ssct8ptKBZhk"
      },
      "execution_count": null,
      "outputs": []
    },
    {
      "cell_type": "markdown",
      "source": [
        "2개의 리스트에서 동일한 인덱스의 숫자를 곱한 값을 리스트로 출력하는프로그램을 lambda와 map을 이용하여 만들어 보세요.\n",
        "\n",
        "- myList1 = [1, 2, 3, 4, 5]\n",
        "- myList2 = [2, 4, 6, 8, 10]"
      ],
      "metadata": {
        "id": "NPXAxebsBwRW"
      }
    },
    {
      "cell_type": "code",
      "source": [
        "\n",
        "\n"
      ],
      "metadata": {
        "id": "DzaB2guoBl6F"
      },
      "execution_count": null,
      "outputs": []
    },
    {
      "cell_type": "markdown",
      "source": [
        "### 2) 클래스"
      ],
      "metadata": {
        "id": "06P3Y5T5ClB6"
      }
    },
    {
      "cell_type": "markdown",
      "source": [
        "#### 1.클래스 정의하기"
      ],
      "metadata": {
        "id": "ua8uO0qlCldV"
      }
    },
    {
      "cell_type": "code",
      "source": [
        "class Car :\n",
        "    color = \"\"\n",
        "    speed = 0\n",
        "\n",
        "    def upSpeed(self, value) :\n",
        "        self.speed += value\n",
        "\n",
        "    def downSpeed(self, value) :\n",
        "        self.speed -= value\n",
        "\n",
        "    def printMessage() :\n",
        "        print(\"시험 출력입니다.\")"
      ],
      "metadata": {
        "id": "KEkZL-sHCsnx"
      },
      "execution_count": null,
      "outputs": []
    },
    {
      "cell_type": "markdown",
      "source": [
        "#### 2.인스턴스 생성 및 작동 구현"
      ],
      "metadata": {
        "id": "_M8neVL5Csxn"
      }
    },
    {
      "cell_type": "code",
      "source": [
        "## 클래스 선언 부분 ##\n",
        "class Car :\n",
        "    color = \"\"\n",
        "    speed = 0\n",
        "\n",
        "    def upSpeed(self, value) :\n",
        "        self.speed += value\n",
        "\n",
        "    def downSpeed(self, value) :\n",
        "        self.speed -= value\n",
        "\n",
        "    def printMessage() :\n",
        "        print(\"시험 출력입니다.\")\n",
        "\n",
        "## 메인 코드 부분 ##\n",
        "myCar1 = Car()\n",
        "myCar1.color = \"빨강\"\n",
        "myCar1.speed = 0\n",
        "\n",
        "myCar2 = Car()\n",
        "myCar2.color = \"파랑\"\n",
        "myCar2.speed = 0\n",
        "\n",
        "myCar3 = Car()\n",
        "myCar3.color = \"노랑\"\n",
        "myCar3.speed = 0\n",
        "\n",
        "myCar1.upSpeed(30)\n",
        "print(\"자동차1의 색상은 %s이며, 현재 속도는 %dkm 입니다.\" % (myCar1.color, myCar1.speed))\n",
        "\n",
        "myCar2.upSpeed(60)\n",
        "print(\"자동차1의 색상은 %s이며, 현재 속도는 %dkm 입니다.\" % (myCar2.color, myCar2.speed))\n",
        "\n",
        "myCar3.upSpeed(0)\n",
        "print(\"자동차1의 색상은 %s이며, 현재 속도는 %dkm 입니다.\" % (myCar3.color, myCar3.speed))"
      ],
      "metadata": {
        "id": "9JRJlAJSCs7P"
      },
      "execution_count": null,
      "outputs": []
    },
    {
      "cell_type": "markdown",
      "source": [
        "#### 3.클래스 생성자 정의\n",
        "- __init__"
      ],
      "metadata": {
        "id": "glBcaR7yC01R"
      }
    },
    {
      "cell_type": "code",
      "source": [
        "## 클래스 선언 부분 ##\n",
        "class Car :\n",
        "    color = \"\"\n",
        "    name = \"\"\n",
        "    speed = 0\n",
        "\n",
        "    def __init__(self, color, name, speed) :\n",
        "        self.color = color\n",
        "        self.name = name\n",
        "        self.speed = speed\n",
        "\n",
        "    def getColor(self) :\n",
        "        return self.color\n",
        "\n",
        "    def getName(self) :\n",
        "        return self.name\n",
        "\n",
        "    def getSpeed(self) :\n",
        "        return self.speed\n",
        "\n",
        "## 변수 선언 부분 ##\n",
        "car1, car2 = None, None\n",
        "\n",
        "## 메인 코드 부분 ##\n",
        "car1 = Car(\"흰색\", \"아우디\", 0 )\n",
        "car2 = Car(\"검정색\", \"벤츠\", 30)\n",
        "\n",
        "print(\"%s %s의 현재 속도는 %d 입니다.\" % (car1.getColor(), car1.getName(), car1.getSpeed()))\n",
        "print(\"%s %s의 현재 속도는 %d 입니다.\" % (car2.getColor(), car2.getName(), car2.getSpeed()))"
      ],
      "metadata": {
        "id": "gGUvOsAMC09g"
      },
      "execution_count": null,
      "outputs": []
    },
    {
      "cell_type": "markdown",
      "source": [
        "- 클래스의 특별한 메서드"
      ],
      "metadata": {
        "id": "iiMXXEqLC1Fi"
      }
    },
    {
      "cell_type": "code",
      "source": [
        "class Line :\n",
        "    length = 0\n",
        "    def __init__(self, length):\n",
        "        self.length = length\n",
        "        print(self.length, '길이의 선이 생성되었습니다')\n",
        "\n",
        "    def __del__(self):\n",
        "        print(self.length, '길이의 선이 삭제되었습니다')\n",
        "\n",
        "    def __repr__(self):\n",
        "        return '선의 길이 : ' + str(self.length)\n",
        "\n",
        "    def __add__(self, other):\n",
        "        return self.length + other.length\n",
        "\n",
        "    def __lt__(self, other):\n",
        "        return self.length < other.length\n",
        "\n",
        "    def __eq__(self, other):\n",
        "        return self.length == other.length\n",
        "\n",
        "## 메인 코드 부분 ##\n",
        "myLine1 = Line(100)\n",
        "myLine2 = Line(200)\n",
        "print(myLine1)\n",
        "\n",
        "print('두 선의 길이 합 : ', myLine1+myLine2)\n",
        "\n",
        "if myLine1 < myLine2 :\n",
        "    print('선분 2가 더 기네요')\n",
        "elif myLine1 == myLine2 :\n",
        "    print('두선분이 같네요')\n",
        "else :\n",
        "    print('모르겠네요.')\n",
        "\n",
        "del(myLine1)"
      ],
      "metadata": {
        "id": "BEmYa_yTC1Nk"
      },
      "execution_count": null,
      "outputs": []
    },
    {
      "cell_type": "markdown",
      "source": [
        "#### 4.클래스 상속 (Inheritance)\n",
        "- 메서드 오버라이딩"
      ],
      "metadata": {
        "id": "7WYWGkG3Do_d"
      }
    },
    {
      "cell_type": "code",
      "source": [
        "## 클래스 선언 부분 ##\n",
        "class Car :\n",
        "    speed = 0\n",
        "\n",
        "    def upSpeed(self, value) :\n",
        "        self.speed += value\n",
        "\n",
        "        print(\"현재 속도(슈퍼 클래스) : %d\" % self.speed)\n",
        "\n",
        "class Sedan(Car) :\n",
        "    def upSpeed(self, value) :\n",
        "        self.speed += value\n",
        "\n",
        "        if self.speed > 150 :\n",
        "            self.speed = 150\n",
        "\n",
        "        print(\"현재 속도(서브 클래스) : %d\" % self.speed)\n",
        "\n",
        "class Truck(Car) :\n",
        "    pass\n",
        "\n",
        "\n",
        "## 변수 선언 부분 ##\n",
        "sedan1, truck1 = None, None\n",
        "\n",
        "## 메인 코드 부분 ##\n",
        "truck1 = Truck()\n",
        "sedan1 = Sedan()\n",
        "\n",
        "print(\"트럭 -->\",  end=\"\")\n",
        "truck1.upSpeed(200)\n",
        "\n",
        "print(\"승용차 -->\",  end=\"\")\n",
        "sedan1.upSpeed(200)"
      ],
      "metadata": {
        "id": "T_TBlBpcDpI-"
      },
      "execution_count": null,
      "outputs": []
    },
    {
      "cell_type": "markdown",
      "source": [
        "#### [실습문제] : 온라인 장바구니 클래스로 구현하"
      ],
      "metadata": {
        "id": "Aw9F6q1YEGgC"
      }
    },
    {
      "cell_type": "code",
      "source": [
        "# 온라인 장바구니 구현\n",
        "class Basket:\n",
        "\n",
        "    def __init__(self,id):\n",
        "        self.id = id       #인스턴스ID\n",
        "        self.items = []    #장바구니 물품명\n",
        "        self.prices = []   #장바구니 물품가격\n",
        "        self.quantity = [] #장바구니 물픔수량\n",
        "        self.total = 0     #장바구니 전체가격\n",
        "        self.itemcnt = 0   #장바구니 전체수량\n",
        "\n",
        "    #장바구니에 추가\n",
        "    def add(self, item, price, qty):\n",
        "        self.items.append(item)\n",
        "        self.prices.append(price)\n",
        "        self.quantity.append(qty)\n",
        "        self.total += price * qty\n",
        "        self.itemcnt += 1\n",
        "\n",
        "    #장바구니에서 삭제\n",
        "    def delete(self, item, qty):\n",
        "        for i in range(self.itemcnt):\n",
        "            if item == self.items[i]:\n",
        "                self.quantity[i] -= qty\n",
        "                self.total -= self.prices[i] * qty\n",
        "                if self.quantity[i] == 0:\n",
        "                    self.itemcnt -=1\n",
        "                    del self.items[i]\n",
        "                    del self.quantity[i]\n",
        "                    del self.prices[i]\n",
        "                break\n",
        "\n",
        "    #장바구니에 물건 출력\n",
        "    def printitems(self):\n",
        "        print(f'#{self.id}의 장바구니\\n--------------')\n",
        "        for i in range(self.itemcnt):\n",
        "            print('*',self.items[i], self.prices[i], self.quantity[i])\n",
        "        print(\"** 전체가격 =\", self.total, \", 전체수량 =\", self.itemcnt)\n",
        "        print('-'*30)\n",
        "\n",
        "basket1 = Basket(\"제인\")\n",
        "basket2 = Basket(\"대원\")\n",
        "\n",
        "basket1.add(\"바나나\", 3000,2)\n",
        "basket1.add(\"우유\", 2500, 2)\n",
        "basket1.add(\"라면\", 4000, 1)\n",
        "basket2.add(\"라면\", 4000, 2)\n",
        "basket1.delete(\"우유\", 1)\n",
        "\n",
        "basket1.printitems()\n",
        "basket2.printitems()"
      ],
      "metadata": {
        "id": "RdISOWD4EGtB"
      },
      "execution_count": null,
      "outputs": []
    },
    {
      "cell_type": "markdown",
      "source": [
        "\n",
        "\n",
        "---\n",
        "\n"
      ],
      "metadata": {
        "id": "4iqpCiPDprJt"
      }
    },
    {
      "cell_type": "markdown",
      "source": [
        "**THE END**"
      ],
      "metadata": {
        "id": "w0oNDNnbpsZn"
      }
    }
  ]
}